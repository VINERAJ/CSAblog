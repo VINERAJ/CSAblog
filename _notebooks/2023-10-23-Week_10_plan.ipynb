{
 "cells": [
  {
   "cell_type": "markdown",
   "metadata": {},
   "source": [
    "---\n",
    "toc: True\n",
    "comments: True\n",
    "layout: post\n",
    "title: Week 10 Goals\n",
    "description: My goals for week 10\n",
    "courses: {'compsci': {'week': 10}}\n",
    "type: plans\n",
    "---"
   ]
  },
  {
   "cell_type": "markdown",
   "metadata": {},
   "source": []
  }
 ],
 "metadata": {
  "language_info": {
   "name": "python"
  }
 },
 "nbformat": 4,
 "nbformat_minor": 2
}
