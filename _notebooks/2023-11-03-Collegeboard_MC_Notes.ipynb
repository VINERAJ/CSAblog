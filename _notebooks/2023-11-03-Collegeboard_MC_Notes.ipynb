{
 "cells": [
  {
   "cell_type": "markdown",
   "metadata": {},
   "source": [
    "---\n",
    "toc: True\n",
    "comments: True\n",
    "layout: post\n",
    "title: MC Notes\n",
    "description: Notes and Corrections for the College Board MC\n",
    "courses: {'compsci': {'week': 12}}\n",
    "type: plans\n",
    "---"
   ]
  }
 ],
 "metadata": {
  "language_info": {
   "name": "python"
  }
 },
 "nbformat": 4,
 "nbformat_minor": 2
}
